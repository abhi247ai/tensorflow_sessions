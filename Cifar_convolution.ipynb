{
  "nbformat": 4,
  "nbformat_minor": 0,
  "metadata": {
    "colab": {
      "name": "Cifar_convolution.ipynb",
      "provenance": [],
      "authorship_tag": "ABX9TyMFui7LFZss3DwcX7RRKWpw",
      "include_colab_link": true
    },
    "kernelspec": {
      "name": "python3",
      "display_name": "Python 3"
    },
    "language_info": {
      "name": "python"
    }
  },
  "cells": [
    {
      "cell_type": "markdown",
      "metadata": {
        "id": "view-in-github",
        "colab_type": "text"
      },
      "source": [
        "<a href=\"https://colab.research.google.com/github/abhi247ai/tensorflow_sessions/blob/main/Cifar_convolution.ipynb\" target=\"_parent\"><img src=\"https://colab.research.google.com/assets/colab-badge.svg\" alt=\"Open In Colab\"/></a>"
      ]
    },
    {
      "cell_type": "code",
      "metadata": {
        "id": "B_7VWFAYkLdO"
      },
      "source": [
        "%tensorflow_version 2.x\n",
        "import tensorflow as tf\n",
        "from tensorflow.keras import models, datasets, layers\n",
        "import matplotlib.pyplot as plt"
      ],
      "execution_count": 1,
      "outputs": []
    },
    {
      "cell_type": "code",
      "metadata": {
        "colab": {
          "base_uri": "https://localhost:8080/"
        },
        "id": "qFQr_1FHluM3",
        "outputId": "b1d65a19-7261-4169-d625-bd8c5b099fc1"
      },
      "source": [
        "#load and split dataset\n",
        "\n",
        "(train_images, train_labels), (test_images, test_labels) = datasets.cifar10.load_data()\n",
        "\n",
        "\n",
        "#normalize pixel values 0 to 1\n",
        "\n",
        "train_images, test_images = train_images/255.0, test_images/255.0\n",
        "\n",
        "class_names = ['airplane', 'automobile', 'bird', 'cat', 'deer',\n",
        "               'dog','frog', 'horse', 'ship', 'truck']"
      ],
      "execution_count": 2,
      "outputs": [
        {
          "output_type": "stream",
          "name": "stdout",
          "text": [
            "Downloading data from https://www.cs.toronto.edu/~kriz/cifar-10-python.tar.gz\n",
            "170500096/170498071 [==============================] - 2s 0us/step\n",
            "170508288/170498071 [==============================] - 2s 0us/step\n"
          ]
        }
      ]
    },
    {
      "cell_type": "code",
      "metadata": {
        "colab": {
          "base_uri": "https://localhost:8080/"
        },
        "id": "ID3ggawBlukC",
        "outputId": "f2780b74-0224-4ae8-824c-1845e8c0f140"
      },
      "source": [
        "train_images.shape, test_images.shape"
      ],
      "execution_count": 4,
      "outputs": [
        {
          "output_type": "execute_result",
          "data": {
            "text/plain": [
              "((50000, 32, 32, 3), (10000, 32, 32, 3))"
            ]
          },
          "metadata": {},
          "execution_count": 4
        }
      ]
    },
    {
      "cell_type": "code",
      "metadata": {
        "colab": {
          "base_uri": "https://localhost:8080/"
        },
        "id": "X8ysc5ISoLpW",
        "outputId": "36b05c43-6162-413f-c18c-5b66d5f3bff4"
      },
      "source": [
        "type(train_images), type(test_images)"
      ],
      "execution_count": 6,
      "outputs": [
        {
          "output_type": "execute_result",
          "data": {
            "text/plain": [
              "(numpy.ndarray, numpy.ndarray)"
            ]
          },
          "metadata": {},
          "execution_count": 6
        }
      ]
    },
    {
      "cell_type": "code",
      "metadata": {
        "colab": {
          "base_uri": "https://localhost:8080/",
          "height": 280
        },
        "id": "r3R3zDSamqvY",
        "outputId": "e9ad4b91-bb45-49c1-97db-3b954b1baf3d"
      },
      "source": [
        "#lets see one image\n",
        "IMG_INDEX = 1\n",
        "\n",
        "plt.imshow(train_images[IMG_INDEX], cmap = plt.cm.binary)\n",
        "plt.xlabel(class_names[train_labels[IMG_INDEX][0]])\n",
        "plt.show()"
      ],
      "execution_count": 9,
      "outputs": [
        {
          "output_type": "display_data",
          "data": {
            "image/png": "[encoded data removed]",
            "text/plain": [
              "<Figure size 432x288 with 1 Axes>"
            ]
          },
          "metadata": {
            "needs_background": "light"
          }
        }
      ]
    },
    {
      "cell_type": "markdown",
      "metadata": {
        "id": "UWXBh5VLwEuu"
      },
      "source": [
        "Layer - 1: \n",
        "The input shape our data is 32,32,3. We will process 32 filters of size 3X3 over our input data. We will also apply the actvation function 'relu' to the output of each convolution operation.\n",
        "Layer - 2: \n",
        "This layer performs the max pooling using 2 x 2 samples and a stride 2\n",
        "Other Layers:\n",
        "The next sets layers do similar but take input the FEATURE MAP of the previous layers. They also increase the frequency of filters from 32 to 64"
      ]
    },
    {
      "cell_type": "code",
      "metadata": {
        "id": "p6EMk_b7obN2"
      },
      "source": [
        "# CNN Architecture\n",
        "\n",
        "model = models.Sequential()\n",
        "model.add(layers.Conv2D(32, (3,3), activation = 'relu', input_shape = (32,32,3)))\n",
        "model.add(layers.MaxPooling2D((2,2)))\n",
        "model.add(layers.Conv2D(64, (3,3), activation = 'relu'))\n",
        "model.add(layers.MaxPooling2D((2,2)))\n",
        "model.add(layers.Conv2D(64, (3,3), activation = 'relu'))"
      ],
      "execution_count": 19,
      "outputs": []
    },
    {
      "cell_type": "code",
      "metadata": {
        "colab": {
          "base_uri": "https://localhost:8080/"
        },
        "id": "ycMYm7mEzkcR",
        "outputId": "d06fac39-0ae3-49a9-f988-b625480f83c0"
      },
      "source": [
        "model.summary()"
      ],
      "execution_count": 20,
      "outputs": [
        {
          "output_type": "stream",
          "name": "stdout",
          "text": [
            "Model: \"sequential\"\n",
            "_________________________________________________________________\n",
            "Layer (type)                 Output Shape              Param #   \n",
            "=================================================================\n",
            "conv2d (Conv2D)              (None, 30, 30, 32)        896       \n",
            "_________________________________________________________________\n",
            "max_pooling2d (MaxPooling2D) (None, 15, 15, 32)        0         \n",
            "_________________________________________________________________\n",
            "conv2d_1 (Conv2D)            (None, 13, 13, 64)        18496     \n",
            "_________________________________________________________________\n",
            "max_pooling2d_1 (MaxPooling2 (None, 6, 6, 64)          0         \n",
            "_________________________________________________________________\n",
            "conv2d_2 (Conv2D)            (None, 4, 4, 64)          36928     \n",
            "=================================================================\n",
            "Total params: 56,320\n",
            "Trainable params: 56,320\n",
            "Non-trainable params: 0\n",
            "_________________________________________________________________\n"
          ]
        }
      ]
    },
    {
      "cell_type": "code",
      "metadata": {
        "id": "M5RDPTEDzom9"
      },
      "source": [
        "# Adding Dense Layers\n",
        "\n",
        "model.add(layers.Flatten())\n",
        "model.add(layers.Dense(64, activation = 'relu'))\n",
        "model.add(layers.Dense(10))"
      ],
      "execution_count": 21,
      "outputs": []
    },
    {
      "cell_type": "code",
      "metadata": {
        "colab": {
          "base_uri": "https://localhost:8080/"
        },
        "id": "FFw0Ys5O3QIh",
        "outputId": "81e19b55-133c-4117-93d6-d133113c5af1"
      },
      "source": [
        "model.summary()"
      ],
      "execution_count": 22,
      "outputs": [
        {
          "output_type": "stream",
          "name": "stdout",
          "text": [
            "Model: \"sequential\"\n",
            "_________________________________________________________________\n",
            "Layer (type)                 Output Shape              Param #   \n",
            "=================================================================\n",
            "conv2d (Conv2D)              (None, 30, 30, 32)        896       \n",
            "_________________________________________________________________\n",
            "max_pooling2d (MaxPooling2D) (None, 15, 15, 32)        0         \n",
            "_________________________________________________________________\n",
            "conv2d_1 (Conv2D)            (None, 13, 13, 64)        18496     \n",
            "_________________________________________________________________\n",
            "max_pooling2d_1 (MaxPooling2 (None, 6, 6, 64)          0         \n",
            "_________________________________________________________________\n",
            "conv2d_2 (Conv2D)            (None, 4, 4, 64)          36928     \n",
            "_________________________________________________________________\n",
            "flatten (Flatten)            (None, 1024)              0         \n",
            "_________________________________________________________________\n",
            "dense (Dense)                (None, 64)                65600     \n",
            "_________________________________________________________________\n",
            "dense_1 (Dense)              (None, 10)                650       \n",
            "=================================================================\n",
            "Total params: 122,570\n",
            "Trainable params: 122,570\n",
            "Non-trainable params: 0\n",
            "_________________________________________________________________\n"
          ]
        }
      ]
    },
    {
      "cell_type": "markdown",
      "metadata": {
        "id": "Bk2Ufnur3ZV1"
      },
      "source": [
        "The flatten layer changes the shape our data so that can feed it to 64 node of dense layers, followed by output ayers (10 neurons) one of each class."
      ]
    },
    {
      "cell_type": "markdown",
      "metadata": {
        "id": "7Lk0YzZh31mk"
      },
      "source": [
        "Training:\n",
        "Now we train and compile the model using hyperparameters from tensorflow.\n",
        "This step takes more time then previous steps:\n"
      ]
    },
    {
      "cell_type": "code",
      "metadata": {
        "colab": {
          "base_uri": "https://localhost:8080/"
        },
        "id": "jubr8NT94TAT",
        "outputId": "229bcc7c-c007-4a7c-a25d-7ab8b9edcba7"
      },
      "source": [
        "model.compile(optimizer = 'adam',\n",
        "              loss = tf.keras.losses.SparseCategoricalCrossentropy(from_logits=True),\n",
        "              metrics = ['accuracy'])\n",
        "\n",
        "history = model.fit(train_images, train_labels, epochs = 10,\n",
        "                    validation_data = (test_images, test_labels))"
      ],
      "execution_count": 25,
      "outputs": [
        {
          "output_type": "stream",
          "name": "stdout",
          "text": [
            "Epoch 1/10\n",
            "1563/1563 [==============================] - 65s 41ms/step - loss: 1.5474 - accuracy: 0.4321 - val_loss: 1.3450 - val_accuracy: 0.5223\n",
            "Epoch 2/10\n",
            "1563/1563 [==============================] - 61s 39ms/step - loss: 1.1789 - accuracy: 0.5823 - val_loss: 1.0873 - val_accuracy: 0.6118\n",
            "Epoch 3/10\n",
            "1563/1563 [==============================] - 61s 39ms/step - loss: 1.0270 - accuracy: 0.6398 - val_loss: 0.9953 - val_accuracy: 0.6479\n",
            "Epoch 4/10\n",
            "1563/1563 [==============================] - 61s 39ms/step - loss: 0.9348 - accuracy: 0.6713 - val_loss: 0.9364 - val_accuracy: 0.6676\n",
            "Epoch 5/10\n",
            "1563/1563 [==============================] - 60s 39ms/step - loss: 0.8738 - accuracy: 0.6914 - val_loss: 0.8947 - val_accuracy: 0.6832\n",
            "Epoch 6/10\n",
            "1563/1563 [==============================] - 61s 39ms/step - loss: 0.8181 - accuracy: 0.7123 - val_loss: 0.8952 - val_accuracy: 0.6828\n",
            "Epoch 7/10\n",
            "1563/1563 [==============================] - 61s 39ms/step - loss: 0.7715 - accuracy: 0.7275 - val_loss: 0.8984 - val_accuracy: 0.6850\n",
            "Epoch 8/10\n",
            "1563/1563 [==============================] - 61s 39ms/step - loss: 0.7279 - accuracy: 0.7456 - val_loss: 0.8601 - val_accuracy: 0.6995\n",
            "Epoch 9/10\n",
            "1563/1563 [==============================] - 61s 39ms/step - loss: 0.6966 - accuracy: 0.7529 - val_loss: 0.8585 - val_accuracy: 0.7025\n",
            "Epoch 10/10\n",
            "1563/1563 [==============================] - 61s 39ms/step - loss: 0.6623 - accuracy: 0.7676 - val_loss: 0.8478 - val_accuracy: 0.7114\n"
          ]
        }
      ]
    },
    {
      "cell_type": "code",
      "metadata": {
        "colab": {
          "base_uri": "https://localhost:8080/"
        },
        "id": "s30tMCwb8CVj",
        "outputId": "d34ae8e6-64f5-47a5-9a60-bb6e443f80b4"
      },
      "source": [
        "# MODEL EVALUATION\n",
        "\n",
        "test_loss, test_acc = model.evaluate(test_images, test_labels, verbose = 2)"
      ],
      "execution_count": 26,
      "outputs": [
        {
          "output_type": "stream",
          "name": "stdout",
          "text": [
            "313/313 - 3s - loss: 0.8478 - accuracy: 0.7114\n"
          ]
        }
      ]
    },
    {
      "cell_type": "markdown",
      "metadata": {
        "id": "s17Pc92E9OtM"
      },
      "source": [
        "Here, we got less accuracy in CNN it is because that we have less data for various labels. Therefore, model is not able to distinguish in deeper. Now, we can overcome this overfitting problem of CNN on small datasets.\n"
      ]
    },
    {
      "cell_type": "markdown",
      "metadata": {
        "id": "EdfMEqpo-cFr"
      },
      "source": [
        "**DATA AUGMENTATION**\n",
        "\n",
        "To avoid overfitting and create larger dataset from smaller dataset, we use a technique called data augmentation.\n",
        "This is simply performing random transformation in our images so that model can generalized better.\n",
        "These transformation like rotations, color changes, compression, streches: keras does this for us: Let see!!!!!!"
      ]
    },
    {
      "cell_type": "code",
      "metadata": {
        "colab": {
          "base_uri": "https://localhost:8080/",
          "height": 266
        },
        "id": "8ajNNkTB_Qde",
        "outputId": "984a2a99-dfec-4139-d72e-2022453cfc0d"
      },
      "source": [
        "from keras.preprocessing import image\n",
        "from keras.preprocessing.image import ImageDataGenerator\n",
        "\n",
        "#data generator object for image transformation\n",
        "datagen = ImageDataGenerator(\n",
        "    rotation_range = 40,\n",
        "    width_shift_range = 0.2,\n",
        "    height_shift_range = 0.2,\n",
        "    shear_range = 0.2,\n",
        "    zoom_range = 0.2,\n",
        "    horizontal_flip = True,\n",
        "    fill_mode = 'nearest')\n",
        "\n",
        "#picking an image for transformation\n",
        "test_img = train_images[14]\n",
        "img = image.img_to_array(test_img)\n",
        "img = img.reshape((1,) + img.shape)\n",
        "\n",
        "i = 0\n",
        "\n",
        "for batch in datagen.flow(img, save_prefix = 'test', save_format = 'jpeg'):\n",
        "  plt.figure(i)\n",
        "  plot = plt.imshow(image.img_to_array(batch[0]))\n",
        "  i +=1\n",
        "  if i > 4:\n",
        "    break\n",
        "  \n",
        "plt.show()\n",
        "\n"
      ],
      "execution_count": 31,
      "outputs": [
        {
          "output_type": "display_data",
          "data": {
            "image/png": "[encoded data removed]",
            "text/plain": [
              "<Figure size 432x288 with 1 Axes>"
            ]
          },
          "metadata": {
            "needs_background": "light"
          }
        }
      ]
    },
    {
      "cell_type": "markdown",
      "metadata": {
        "id": "C7OBnprAEC0t"
      },
      "source": [
        "What if Data Augmentation also not help us in reducing loss?\n",
        "**PRE-TRAINED MODELS**\n"
      ]
    },
    {
      "cell_type": "code",
      "metadata": {
        "id": "fZuftlYED1qC"
      },
      "source": [
        ""
      ],
      "execution_count": null,
      "outputs": []
    }
  ]
}