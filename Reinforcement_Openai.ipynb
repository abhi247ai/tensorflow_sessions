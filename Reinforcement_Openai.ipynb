{
  "nbformat": 4,
  "nbformat_minor": 0,
  "metadata": {
    "colab": {
      "name": "Reinforcement_Openai.ipynb",
      "provenance": [],
      "authorship_tag": "ABX9TyMfLMJX7JxbzUAJCyorQ8hf",
      "include_colab_link": true
    },
    "kernelspec": {
      "name": "python3",
      "display_name": "Python 3"
    },
    "language_info": {
      "name": "python"
    }
  },
  "cells": [
    {
      "cell_type": "markdown",
      "metadata": {
        "id": "view-in-github",
        "colab_type": "text"
      },
      "source": [
        "<a href=\"https://colab.research.google.com/github/abhi247ai/tensorflow_sessions/blob/main/Reinforcement_Openai.ipynb\" target=\"_parent\"><img src=\"https://colab.research.google.com/assets/colab-badge.svg\" alt=\"Open In Colab\"/></a>"
      ]
    },
    {
      "cell_type": "code",
      "metadata": {
        "id": "DKT3oPK8ZDE_"
      },
      "source": [
        "import gym\n",
        "import numpy as np\n",
        "import time\n",
        "\n",
        "env = gym.make('FrozenLake-v0')\n",
        "STATES = env.observation_space.n\n",
        "ACTIONS = env.action_space.n"
      ],
      "execution_count": 2,
      "outputs": []
    },
    {
      "cell_type": "code",
      "metadata": {
        "colab": {
          "base_uri": "https://localhost:8080/"
        },
        "id": "cW2qK8EdiQoh",
        "outputId": "8e63441c-c945-4cad-c90d-db9611e018ad"
      },
      "source": [
        "Q = np.zeros((STATES, ACTIONS))      #creates a matrix with zero values\n",
        "Q.shape, Q"
      ],
      "execution_count": 6,
      "outputs": [
        {
          "output_type": "execute_result",
          "data": {
            "text/plain": [
              "((16, 4), array([[0., 0., 0., 0.],\n",
              "        [0., 0., 0., 0.],\n",
              "        [0., 0., 0., 0.],\n",
              "        [0., 0., 0., 0.],\n",
              "        [0., 0., 0., 0.],\n",
              "        [0., 0., 0., 0.],\n",
              "        [0., 0., 0., 0.],\n",
              "        [0., 0., 0., 0.],\n",
              "        [0., 0., 0., 0.],\n",
              "        [0., 0., 0., 0.],\n",
              "        [0., 0., 0., 0.],\n",
              "        [0., 0., 0., 0.],\n",
              "        [0., 0., 0., 0.],\n",
              "        [0., 0., 0., 0.],\n",
              "        [0., 0., 0., 0.],\n",
              "        [0., 0., 0., 0.]]))"
            ]
          },
          "metadata": {},
          "execution_count": 6
        }
      ]
    },
    {
      "cell_type": "markdown",
      "metadata": {
        "id": "oCKko1Jti3nb"
      },
      "source": [
        "**CONSTANTS**\n",
        "\n",
        "declaring for our agents when to stop training while updating Q-table"
      ]
    },
    {
      "cell_type": "code",
      "metadata": {
        "id": "75aoU9QTjTx-"
      },
      "source": [
        "EPISODES = 10000    #how many times to start envi from beginning\n",
        "MAX_STEPS = 100     #max steps allwed each run of env\n",
        "\n",
        "LEARNING_RATE = 0.81    \n",
        "GAMMA = 0.96   "
      ],
      "execution_count": null,
      "outputs": []
    },
    {
      "cell_type": "markdown",
      "metadata": {
        "id": "z-dpS8xekJPU"
      },
      "source": [
        "**RANDOM PICK OF ACTION**"
      ]
    },
    {
      "cell_type": "code",
      "metadata": {
        "id": "lN-Q2gy8kOyW"
      },
      "source": [
        "epsilon = 0.9\n",
        "\n",
        "if np.random.uniform(0,1) < epsilon:\n",
        "  action = env.action_space.sample()\n",
        "else:\n",
        "  action = np.argmax(Q[state, :])"
      ],
      "execution_count": null,
      "outputs": []
    },
    {
      "cell_type": "code",
      "metadata": {
        "id": "cPvg3OABlgEA"
      },
      "source": [
        "Q[state,action] = Q[state,action] + LEARNING_RATE*(reward + GAMMA*np.max(Q[next_state, :]) - Q[state,action])"
      ],
      "execution_count": 10,
      "outputs": []
    },
    {
      "cell_type": "code",
      "metadata": {
        "id": "OYEJ37rWmkBf"
      },
      "source": [
        "import gym\n",
        "import numpy as np\n",
        "import time\n",
        "\n",
        "env = gym.make('FrozenLake-v0')\n",
        "STATES = env.observation_space.n\n",
        "ACTIONS = env.action_space.n\n",
        "\n",
        "Q = np.zeros((STATES, ACTIONS))  \n",
        "\n",
        "EPISODES = 1500    #how many times to start envi from beginning\n",
        "MAX_STEPS = 100     #max steps allwed each run of env\n",
        "\n",
        "LEARNING_RATE = 0.81    \n",
        "GAMMA = 0.96   \n",
        "\n",
        "RENDER = False   #True if want to see training\n",
        "\n",
        "epsilon = 0.9"
      ],
      "execution_count": 11,
      "outputs": []
    },
    {
      "cell_type": "code",
      "metadata": {
        "colab": {
          "base_uri": "https://localhost:8080/"
        },
        "id": "_2C2pEgdnC8I",
        "outputId": "55eb370f-a3f4-4ccc-e88b-2b7b7bcbacef"
      },
      "source": [
        "rewards = []\n",
        "for episodes in range(EPISODES):\n",
        "\n",
        "  state = env.reset()\n",
        "  for _ in range(MAX_STEPS):\n",
        "\n",
        "    if RENDER:\n",
        "      env.render()\n",
        "    \n",
        "    if np.random.uniform(0,1) < epsilon:\n",
        "      action = env.action_space.sample()\n",
        "    else:\n",
        "      action = np.argmax(Q[state, :])\n",
        "\n",
        "    next_state, reward, done, _ = env.step(action)\n",
        "\n",
        "    Q[state,action] = Q[state,action] + LEARNING_RATE*(reward + GAMMA*np.max(Q[next_state, :]) - Q[state,action])\n",
        "\n",
        "    state = next_state\n",
        "\n",
        "    if done:\n",
        "      rewards.append(reward)\n",
        "      epsilon -= 0.001\n",
        "      break  #goal achieved\n",
        "\n",
        "print(Q)\n",
        "print(f'Average reward: {sum(rewards)/len(rewards)}:')"
      ],
      "execution_count": 12,
      "outputs": [
        {
          "output_type": "stream",
          "name": "stdout",
          "text": [
            "[[2.84739134e-01 3.54503442e-02 3.28061753e-02 3.56683189e-02]\n",
            " [7.11408100e-03 1.55905327e-02 7.31351664e-04 1.83574358e-01]\n",
            " [1.21995754e-02 1.37469119e-02 2.29227074e-02 3.67104643e-01]\n",
            " [1.48311355e-02 7.17505274e-03 1.23956162e-02 1.63334934e-01]\n",
            " [3.48496272e-01 1.60728326e-02 1.00435026e-02 7.93609748e-03]\n",
            " [0.00000000e+00 0.00000000e+00 0.00000000e+00 0.00000000e+00]\n",
            " [8.19097531e-05 1.04992876e-04 2.03258829e-01 7.82987987e-08]\n",
            " [0.00000000e+00 0.00000000e+00 0.00000000e+00 0.00000000e+00]\n",
            " [1.28720860e-02 1.47367538e-02 1.28310552e-02 3.69073903e-01]\n",
            " [1.60281505e-02 7.02570078e-01 9.87235622e-03 5.31682893e-03]\n",
            " [8.89644925e-01 3.16851130e-03 1.77777072e-03 3.25803260e-03]\n",
            " [0.00000000e+00 0.00000000e+00 0.00000000e+00 0.00000000e+00]\n",
            " [0.00000000e+00 0.00000000e+00 0.00000000e+00 0.00000000e+00]\n",
            " [2.66291578e-02 2.55349556e-02 6.91147144e-01 2.25892012e-02]\n",
            " [6.15022358e-02 9.89823002e-01 1.55964428e-01 1.72662580e-01]\n",
            " [0.00000000e+00 0.00000000e+00 0.00000000e+00 0.00000000e+00]]\n",
            "Average reward: 0.32666666666666666:\n"
          ]
        }
      ]
    },
    {
      "cell_type": "code",
      "metadata": {
        "colab": {
          "base_uri": "https://localhost:8080/",
          "height": 279
        },
        "id": "kIi68lQQqBiX",
        "outputId": "d29d4dd6-f20f-4a57-d2e5-e1b79ff36aea"
      },
      "source": [
        "import matplotlib.pyplot as plt\n",
        "\n",
        "\n",
        "def get_average(values):\n",
        "  return sum(values)/len(values)\n",
        "\n",
        "avg_rewards = []\n",
        "\n",
        "for i in range(0, len(rewards), 100):\n",
        "  avg_rewards.append(get_average(rewards[i:i+100]))\n",
        "\n",
        "plt.plot(avg_rewards)\n",
        "plt.ylabel('average reward')\n",
        "plt.xlabel('episodes (100\\s)')\n",
        "plt.show()"
      ],
      "execution_count": 14,
      "outputs": [
        {
          "output_type": "display_data",
          "data": {
            "image/png": "[encoded data removed]",
            "text/plain": [
              "<Figure size 432x288 with 1 Axes>"
            ]
          },
          "metadata": {
            "needs_background": "light"
          }
        }
      ]
    }
  ]
}