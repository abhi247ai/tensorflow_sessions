{
  "nbformat": 4,
  "nbformat_minor": 0,
  "metadata": {
    "colab": {
      "name": "Fashion MNIST_Sequential.ipynb",
      "provenance": [],
      "authorship_tag": "ABX9TyNjxaNO2LgUeRwJyHZ157Cw",
      "include_colab_link": true
    },
    "kernelspec": {
      "name": "python3",
      "display_name": "Python 3"
    },
    "language_info": {
      "name": "python"
    }
  },
  "cells": [
    {
      "cell_type": "markdown",
      "metadata": {
        "id": "view-in-github",
        "colab_type": "text"
      },
      "source": [
        "<a href=\"https://colab.research.google.com/github/abhi247ai/tensorflow_sessions/blob/main/Fashion_MNIST_Sequential.ipynb\" target=\"_parent\"><img src=\"https://colab.research.google.com/assets/colab-badge.svg\" alt=\"Open In Colab\"/></a>"
      ]
    },
    {
      "cell_type": "code",
      "metadata": {
        "id": "WNRBAJQF1-SD"
      },
      "source": [
        "import tensorflow as tf\n",
        "from tensorflow import keras\n",
        "\n",
        "import pandas as pd\n",
        "import numpy as np\n",
        "import matplotlib.pyplot as plt\n",
        "\n"
      ],
      "execution_count": 1,
      "outputs": []
    },
    {
      "cell_type": "code",
      "metadata": {
        "id": "Ba-pFWgh2p3B"
      },
      "source": [
        "#load data\n",
        "fashion_mnist = keras.datasets.fashion_mnist\n",
        "\n",
        "#split data\n",
        "(train_images, train_labels), (test_images, test_labels) = fashion_mnist.load_data()"
      ],
      "execution_count": 30,
      "outputs": []
    },
    {
      "cell_type": "code",
      "metadata": {
        "colab": {
          "base_uri": "https://localhost:8080/"
        },
        "id": "-_kiYN2Y3TBl",
        "outputId": "3a95a068-52f6-4542-9ef3-9c5bd1b41154"
      },
      "source": [
        "train_images.shape    #60000 images , 28 * 28 pixels"
      ],
      "execution_count": 31,
      "outputs": [
        {
          "output_type": "execute_result",
          "data": {
            "text/plain": [
              "(60000, 28, 28)"
            ]
          },
          "metadata": {},
          "execution_count": 31
        }
      ]
    },
    {
      "cell_type": "code",
      "metadata": {
        "colab": {
          "base_uri": "https://localhost:8080/"
        },
        "id": "mr1_kN7mD72D",
        "outputId": "da0a9f6c-4329-4add-f787-4e267d33a279"
      },
      "source": [
        "test_images.shape"
      ],
      "execution_count": 32,
      "outputs": [
        {
          "output_type": "execute_result",
          "data": {
            "text/plain": [
              "(10000, 28, 28)"
            ]
          },
          "metadata": {},
          "execution_count": 32
        }
      ]
    },
    {
      "cell_type": "code",
      "metadata": {
        "colab": {
          "base_uri": "https://localhost:8080/"
        },
        "id": "H3ENVo6U3WP4",
        "outputId": "1d7108b6-2fb9-40b8-aa4d-f880f1f58a6f"
      },
      "source": [
        "train_images[0][0]"
      ],
      "execution_count": 6,
      "outputs": [
        {
          "output_type": "execute_result",
          "data": {
            "text/plain": [
              "array([0, 0, 0, 0, 0, 0, 0, 0, 0, 0, 0, 0, 0, 0, 0, 0, 0, 0, 0, 0, 0, 0,\n",
              "       0, 0, 0, 0, 0, 0], dtype=uint8)"
            ]
          },
          "metadata": {},
          "execution_count": 6
        }
      ]
    },
    {
      "cell_type": "code",
      "metadata": {
        "colab": {
          "base_uri": "https://localhost:8080/"
        },
        "id": "rZ6gVHHT3kTI",
        "outputId": "97d05da1-a7b5-44ed-8a1a-8d29eadfad54"
      },
      "source": [
        "train_images[0,23,23]"
      ],
      "execution_count": 8,
      "outputs": [
        {
          "output_type": "execute_result",
          "data": {
            "text/plain": [
              "194"
            ]
          },
          "metadata": {},
          "execution_count": 8
        }
      ]
    },
    {
      "cell_type": "code",
      "metadata": {
        "colab": {
          "base_uri": "https://localhost:8080/"
        },
        "id": "Vam_ZNRd4C7b",
        "outputId": "79095875-8494-4786-b3ed-8d6b23416408"
      },
      "source": [
        "train_labels"
      ],
      "execution_count": 13,
      "outputs": [
        {
          "output_type": "execute_result",
          "data": {
            "text/plain": [
              "array([9, 0, 0, ..., 3, 0, 5], dtype=uint8)"
            ]
          },
          "metadata": {},
          "execution_count": 13
        }
      ]
    },
    {
      "cell_type": "code",
      "metadata": {
        "id": "3cc4gFVr4gZo"
      },
      "source": [
        "#set label names\n",
        "\n",
        "class_names =['T-Shirt/Top', 'Trousers', 'Pullover',' Dress', 'Coat',\n",
        "              'Sandal', 'Shirt', 'Sneaker', 'Bag', 'Ankle-Boot']"
      ],
      "execution_count": 14,
      "outputs": []
    },
    {
      "cell_type": "code",
      "metadata": {
        "colab": {
          "base_uri": "https://localhost:8080/",
          "height": 282
        },
        "id": "Vfdn2NxK6XFP",
        "outputId": "5f7a02da-14b2-4f6a-e378-76523ecda1bd"
      },
      "source": [
        "plt.figure()\n",
        "plt.imshow(train_images[1])\n",
        "plt.colorbar()\n",
        "plt.grid(False)\n",
        "plt.show"
      ],
      "execution_count": 17,
      "outputs": [
        {
          "output_type": "execute_result",
          "data": {
            "text/plain": [
              "<function matplotlib.pyplot.show>"
            ]
          },
          "metadata": {},
          "execution_count": 17
        },
        {
          "output_type": "display_data",
          "data": {
            "image/png": "[encoded data removed]",
            "text/plain": [
              "<Figure size 432x288 with 2 Axes>"
            ]
          },
          "metadata": {
            "needs_background": "light"
          }
        }
      ]
    },
    {
      "cell_type": "code",
      "metadata": {
        "id": "1L-tqUWY6yBE"
      },
      "source": [
        "# Date Preprocessing\n",
        "\n",
        "#we will scale all scales values 0 - 255 to between 0 - 1.\n",
        "\n",
        "train_images = train_images/255.0\n",
        "test_images = train_images/255.0"
      ],
      "execution_count": 18,
      "outputs": []
    },
    {
      "cell_type": "code",
      "metadata": {
        "colab": {
          "base_uri": "https://localhost:8080/"
        },
        "id": "KPkmejyG8EDX",
        "outputId": "4c5d0845-6637-4913-9d0b-f83775dacd20"
      },
      "source": [
        "train_images[0,23,23]   # changed from 194 to 0.76"
      ],
      "execution_count": 19,
      "outputs": [
        {
          "output_type": "execute_result",
          "data": {
            "text/plain": [
              "0.7607843137254902"
            ]
          },
          "metadata": {},
          "execution_count": 19
        }
      ]
    },
    {
      "cell_type": "code",
      "metadata": {
        "id": "T-IKJd3T8Hzf"
      },
      "source": [
        "# Building the model\n",
        "#will use 3 layers\n",
        "%tensorflow_version 2.x\n",
        "\n",
        "\n",
        "model = keras.Sequential([\n",
        "                          keras.layers.Flatten(input_shape = (28,28)),  #input layer\n",
        "                          keras.layers.Dense(128, activation='relu'),   #hidden layer\n",
        "                          keras.layers.Dense(10, activation='softmax')  #output layer\n",
        "                          ])"
      ],
      "execution_count": 21,
      "outputs": []
    },
    {
      "cell_type": "code",
      "metadata": {
        "id": "XlacPtZL_hh5"
      },
      "source": [
        "# compile the model\n",
        "\n",
        "model.compile(optimizer='adam',\n",
        "              loss = 'sparse_categorical_crossentropy',\n",
        "              metrics =['accuracy'])"
      ],
      "execution_count": 22,
      "outputs": []
    },
    {
      "cell_type": "code",
      "metadata": {
        "colab": {
          "base_uri": "https://localhost:8080/"
        },
        "id": "YHhJlCy7Ae1Q",
        "outputId": "f176f920-b5e6-4ccd-8687-5eb364d44bbd"
      },
      "source": [
        "# fit model\n",
        "\n",
        "model.fit(train_images, train_labels, epochs = 10)"
      ],
      "execution_count": 23,
      "outputs": [
        {
          "output_type": "stream",
          "name": "stdout",
          "text": [
            "Epoch 1/10\n",
            "1875/1875 [==============================] - 5s 2ms/step - loss: 0.5000 - accuracy: 0.8251\n",
            "Epoch 2/10\n",
            "1875/1875 [==============================] - 4s 2ms/step - loss: 0.3778 - accuracy: 0.8644\n",
            "Epoch 3/10\n",
            "1875/1875 [==============================] - 4s 2ms/step - loss: 0.3387 - accuracy: 0.8768\n",
            "Epoch 4/10\n",
            "1875/1875 [==============================] - 4s 2ms/step - loss: 0.3158 - accuracy: 0.8838\n",
            "Epoch 5/10\n",
            "1875/1875 [==============================] - 4s 2ms/step - loss: 0.2962 - accuracy: 0.8905\n",
            "Epoch 6/10\n",
            "1875/1875 [==============================] - 4s 2ms/step - loss: 0.2821 - accuracy: 0.8952\n",
            "Epoch 7/10\n",
            "1875/1875 [==============================] - 4s 2ms/step - loss: 0.2714 - accuracy: 0.9000\n",
            "Epoch 8/10\n",
            "1875/1875 [==============================] - 4s 2ms/step - loss: 0.2591 - accuracy: 0.9032\n",
            "Epoch 9/10\n",
            "1875/1875 [==============================] - 4s 2ms/step - loss: 0.2499 - accuracy: 0.9059\n",
            "Epoch 10/10\n",
            "1875/1875 [==============================] - 4s 2ms/step - loss: 0.2414 - accuracy: 0.9086\n"
          ]
        },
        {
          "output_type": "execute_result",
          "data": {
            "text/plain": [
              "<keras.callbacks.History at 0x7f837f36ded0>"
            ]
          },
          "metadata": {},
          "execution_count": 23
        }
      ]
    },
    {
      "cell_type": "code",
      "metadata": {
        "colab": {
          "base_uri": "https://localhost:8080/"
        },
        "id": "4DJC9H7HBPxH",
        "outputId": "d44f07a6-bcd8-4f77-bcdd-712c1e173fc5"
      },
      "source": [
        "# test the model\n",
        "\n",
        "# note we could use many thins in between like callbacks etc. but this is for practice only\n",
        "\n",
        "test_loss, test_acc = model.evaluate(test_images, test_labels, verbose = 1)\n",
        "\n",
        "print('Test Accuracy: ', test_acc)"
      ],
      "execution_count": 33,
      "outputs": [
        {
          "output_type": "stream",
          "name": "stdout",
          "text": [
            "313/313 [==============================] - 1s 2ms/step - loss: 74.1981 - accuracy: 0.8506\n",
            "Test Accuracy:  0.850600004196167\n"
          ]
        }
      ]
    },
    {
      "cell_type": "code",
      "metadata": {
        "id": "s9XH34awCz_N"
      },
      "source": [
        "# the accuracy has been reduced from 90& to 85% : overfit case,\n",
        "#beacause during epochs training data was momorizing the data labels, so on every epoch train data is not new to model\n",
        "# but when we use test_images data it is completely unsee thus accuracy reduced\n",
        "\n",
        "#we can perform some hyperparameter tuning like inc/dec epochs, changimg different acti.func., changing hidden neurons."
      ],
      "execution_count": null,
      "outputs": []
    },
    {
      "cell_type": "code",
      "metadata": {
        "colab": {
          "base_uri": "https://localhost:8080/",
          "height": 299
        },
        "id": "dEqQtqQDGgzg",
        "outputId": "3e405cd6-ca5f-4266-8c9b-f7c38d25ef9d"
      },
      "source": [
        "# let us also check predictions by passing test_images\n",
        "\n",
        "predictions = model.predict(test_images)\n",
        "print(class_names[np.argmax(predictions[1])])   \n",
        "plt.figure()\n",
        "plt.imshow(train_images[1])   # this line verifies the above print value\n",
        "plt.colorbar()\n",
        "plt.grid(False)\n",
        "plt.show"
      ],
      "execution_count": 36,
      "outputs": [
        {
          "output_type": "stream",
          "name": "stdout",
          "text": [
            "Pullover\n"
          ]
        },
        {
          "output_type": "execute_result",
          "data": {
            "text/plain": [
              "<function matplotlib.pyplot.show>"
            ]
          },
          "metadata": {},
          "execution_count": 36
        },
        {
          "output_type": "display_data",
          "data": {
            "image/png": "[encoded data removed]",
            "text/plain": [
              "<Figure size 432x288 with 2 Axes>"
            ]
          },
          "metadata": {
            "needs_background": "light"
          }
        }
      ]
    },
    {
      "cell_type": "code",
      "metadata": {
        "colab": {
          "base_uri": "https://localhost:8080/",
          "height": 317
        },
        "id": "K8cCZN9CHxdE",
        "outputId": "9aed3e18-7dd7-4dbd-f53b-86fc4267b2d3"
      },
      "source": [
        "# instead we can write a script where we have to just put the number of image (from test data)\n",
        "\n",
        "COLOR = 'white'\n",
        "plt.rcParams['text.color'] = COLOR\n",
        "plt.rcParams['axes.labelcolor'] = COLOR\n",
        "\n",
        "def predict(model, image, correct_label):\n",
        "  class_names = ['T-Shirt/Top', 'Trousers', 'Pullover',' Dress', 'Coat',\n",
        "              'Sandal', 'Shirt', 'Sneaker', 'Bag', 'Ankle-Boot']\n",
        "  predictions = model.predict(np.array([image]))\n",
        "  predicted_class = class_names[np.argmax(predictions)]\n",
        "\n",
        "  show_image(image, class_names[correct_label], predicted_class)\n",
        "\n",
        "def show_image(img, label, guess):\n",
        "  plt.figure()\n",
        "  plt.imshow(img, cmap = plt.cm.binary)   \n",
        "  #plt.title('Expected Image: '+ label)  #these two lines not working, therefore used below print statements\n",
        "  #plt.xlabel(\"Guess: \"+ guess)\n",
        "  plt.colorbar()\n",
        "  plt.grid(False)\n",
        "  plt.show\n",
        "  print('Expected Image: ', label)\n",
        "  print(\"Guess: \", guess)\n",
        "\n",
        "def get_number():\n",
        "  while True:\n",
        "    num = input(\"Enter Number of the image: \")\n",
        "    if num.isdigit():\n",
        "      num = int(num)\n",
        "      if 0 <= num <=1000:\n",
        "        return int(num)\n",
        "      else:\n",
        "        print('Not a valid number: Try again...')\n",
        "\n",
        "num = get_number()\n",
        "image = test_images[num]\n",
        "label = test_labels[num]\n",
        "predict(model, image, label)\n",
        "\n"
      ],
      "execution_count": 52,
      "outputs": [
        {
          "output_type": "stream",
          "name": "stdout",
          "text": [
            "Enter Number of the image: 452\n",
            "Expected Image:  T-Shirt/Top\n",
            "Guess:  Shirt\n"
          ]
        },
        {
          "output_type": "display_data",
          "data": {
            "image/png": "[encoded data removed]",
            "text/plain": [
              "<Figure size 432x288 with 2 Axes>"
            ]
          },
          "metadata": {
            "needs_background": "light"
          }
        }
      ]
    }
  ]
}